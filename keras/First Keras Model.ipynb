{
 "cells": [
  {
   "cell_type": "code",
   "execution_count": null,
   "metadata": {
    "collapsed": true
   },
   "outputs": [],
   "source": []
  },
  {
   "cell_type": "code",
   "execution_count": 1,
   "metadata": {
    "collapsed": true
   },
   "outputs": [],
   "source": [
    "# Importing the libraries\n",
    "import numpy as np\n",
    "import matplotlib.pyplot as plt\n",
    "import pandas as pd"
   ]
  },
  {
   "cell_type": "code",
   "execution_count": 10,
   "metadata": {
    "collapsed": true
   },
   "outputs": [],
   "source": [
    "# Importing the dataset\n",
    "dataset = pd.read_csv('Churn_Modelling.csv')\n",
    "X = dataset.iloc[:, 3:13].values\n",
    "y = dataset.iloc[:, 13].values"
   ]
  },
  {
   "cell_type": "code",
   "execution_count": 11,
   "metadata": {},
   "outputs": [
    {
     "data": {
      "text/html": [
       "<div>\n",
       "<style>\n",
       "    .dataframe thead tr:only-child th {\n",
       "        text-align: right;\n",
       "    }\n",
       "\n",
       "    .dataframe thead th {\n",
       "        text-align: left;\n",
       "    }\n",
       "\n",
       "    .dataframe tbody tr th {\n",
       "        vertical-align: top;\n",
       "    }\n",
       "</style>\n",
       "<table border=\"1\" class=\"dataframe\">\n",
       "  <thead>\n",
       "    <tr style=\"text-align: right;\">\n",
       "      <th></th>\n",
       "      <th>RowNumber</th>\n",
       "      <th>CustomerId</th>\n",
       "      <th>Surname</th>\n",
       "      <th>CreditScore</th>\n",
       "      <th>Geography</th>\n",
       "      <th>Gender</th>\n",
       "      <th>Age</th>\n",
       "      <th>Tenure</th>\n",
       "      <th>Balance</th>\n",
       "      <th>NumOfProducts</th>\n",
       "      <th>HasCrCard</th>\n",
       "      <th>IsActiveMember</th>\n",
       "      <th>EstimatedSalary</th>\n",
       "      <th>Exited</th>\n",
       "    </tr>\n",
       "  </thead>\n",
       "  <tbody>\n",
       "    <tr>\n",
       "      <th>0</th>\n",
       "      <td>1</td>\n",
       "      <td>15634602</td>\n",
       "      <td>Hargrave</td>\n",
       "      <td>619</td>\n",
       "      <td>France</td>\n",
       "      <td>Female</td>\n",
       "      <td>42</td>\n",
       "      <td>2</td>\n",
       "      <td>0.00</td>\n",
       "      <td>1</td>\n",
       "      <td>1</td>\n",
       "      <td>1</td>\n",
       "      <td>101348.88</td>\n",
       "      <td>1</td>\n",
       "    </tr>\n",
       "    <tr>\n",
       "      <th>1</th>\n",
       "      <td>2</td>\n",
       "      <td>15647311</td>\n",
       "      <td>Hill</td>\n",
       "      <td>608</td>\n",
       "      <td>Spain</td>\n",
       "      <td>Female</td>\n",
       "      <td>41</td>\n",
       "      <td>1</td>\n",
       "      <td>83807.86</td>\n",
       "      <td>1</td>\n",
       "      <td>0</td>\n",
       "      <td>1</td>\n",
       "      <td>112542.58</td>\n",
       "      <td>0</td>\n",
       "    </tr>\n",
       "    <tr>\n",
       "      <th>2</th>\n",
       "      <td>3</td>\n",
       "      <td>15619304</td>\n",
       "      <td>Onio</td>\n",
       "      <td>502</td>\n",
       "      <td>France</td>\n",
       "      <td>Female</td>\n",
       "      <td>42</td>\n",
       "      <td>8</td>\n",
       "      <td>159660.80</td>\n",
       "      <td>3</td>\n",
       "      <td>1</td>\n",
       "      <td>0</td>\n",
       "      <td>113931.57</td>\n",
       "      <td>1</td>\n",
       "    </tr>\n",
       "    <tr>\n",
       "      <th>3</th>\n",
       "      <td>4</td>\n",
       "      <td>15701354</td>\n",
       "      <td>Boni</td>\n",
       "      <td>699</td>\n",
       "      <td>France</td>\n",
       "      <td>Female</td>\n",
       "      <td>39</td>\n",
       "      <td>1</td>\n",
       "      <td>0.00</td>\n",
       "      <td>2</td>\n",
       "      <td>0</td>\n",
       "      <td>0</td>\n",
       "      <td>93826.63</td>\n",
       "      <td>0</td>\n",
       "    </tr>\n",
       "    <tr>\n",
       "      <th>4</th>\n",
       "      <td>5</td>\n",
       "      <td>15737888</td>\n",
       "      <td>Mitchell</td>\n",
       "      <td>850</td>\n",
       "      <td>Spain</td>\n",
       "      <td>Female</td>\n",
       "      <td>43</td>\n",
       "      <td>2</td>\n",
       "      <td>125510.82</td>\n",
       "      <td>1</td>\n",
       "      <td>1</td>\n",
       "      <td>1</td>\n",
       "      <td>79084.10</td>\n",
       "      <td>0</td>\n",
       "    </tr>\n",
       "  </tbody>\n",
       "</table>\n",
       "</div>"
      ],
      "text/plain": [
       "   RowNumber  CustomerId   Surname  CreditScore Geography  Gender  Age  \\\n",
       "0          1    15634602  Hargrave          619    France  Female   42   \n",
       "1          2    15647311      Hill          608     Spain  Female   41   \n",
       "2          3    15619304      Onio          502    France  Female   42   \n",
       "3          4    15701354      Boni          699    France  Female   39   \n",
       "4          5    15737888  Mitchell          850     Spain  Female   43   \n",
       "\n",
       "   Tenure    Balance  NumOfProducts  HasCrCard  IsActiveMember  \\\n",
       "0       2       0.00              1          1               1   \n",
       "1       1   83807.86              1          0               1   \n",
       "2       8  159660.80              3          1               0   \n",
       "3       1       0.00              2          0               0   \n",
       "4       2  125510.82              1          1               1   \n",
       "\n",
       "   EstimatedSalary  Exited  \n",
       "0        101348.88       1  \n",
       "1        112542.58       0  \n",
       "2        113931.57       1  \n",
       "3         93826.63       0  \n",
       "4         79084.10       0  "
      ]
     },
     "execution_count": 11,
     "metadata": {},
     "output_type": "execute_result"
    }
   ],
   "source": [
    "dataset.head()"
   ]
  },
  {
   "cell_type": "code",
   "execution_count": 12,
   "metadata": {
    "collapsed": true
   },
   "outputs": [],
   "source": [
    "# Encoding categorical data\n",
    "from sklearn.preprocessing import LabelEncoder, OneHotEncoder\n",
    "labelencoder_X_1 = LabelEncoder()\n",
    "X[:, 1] = labelencoder_X_1.fit_transform(X[:, 1])\n",
    "labelencoder_X_2 = LabelEncoder()\n",
    "X[:, 2] = labelencoder_X_2.fit_transform(X[:, 2])\n",
    "onehotencoder = OneHotEncoder(categorical_features = [1])\n",
    "X = onehotencoder.fit_transform(X).toarray()\n",
    "X = X[:, 1:]"
   ]
  },
  {
   "cell_type": "code",
   "execution_count": 14,
   "metadata": {
    "collapsed": true
   },
   "outputs": [],
   "source": [
    "# Splitting the dataset into the Training set and Test set\n",
    "from sklearn.model_selection import train_test_split\n",
    "X_train, X_test, y_train, y_test = train_test_split(X, y, test_size = 0.2, random_state = 0)"
   ]
  },
  {
   "cell_type": "code",
   "execution_count": 15,
   "metadata": {
    "collapsed": true
   },
   "outputs": [],
   "source": [
    "# Feature Scaling\n",
    "from sklearn.preprocessing import StandardScaler\n",
    "sc = StandardScaler()\n",
    "X_train = sc.fit_transform(X_train)\n",
    "X_test = sc.transform(X_test)"
   ]
  },
  {
   "cell_type": "code",
   "execution_count": 16,
   "metadata": {},
   "outputs": [
    {
     "name": "stderr",
     "output_type": "stream",
     "text": [
      "Using TensorFlow backend.\n"
     ]
    }
   ],
   "source": [
    "# Importing the Keras libraries and packages\n",
    "import keras\n",
    "from keras.models import Sequential\n",
    "from keras.layers import Dense"
   ]
  },
  {
   "cell_type": "code",
   "execution_count": 19,
   "metadata": {},
   "outputs": [
    {
     "name": "stderr",
     "output_type": "stream",
     "text": [
      "/Users/mauricio/miniconda3/lib/python3.6/site-packages/ipykernel_launcher.py:4: UserWarning: Update your `Dense` call to the Keras 2 API: `Dense(kernel_initializer=\"uniform\", activation=\"relu\", input_dim=11, units=6)`\n",
      "  after removing the cwd from sys.path.\n",
      "/Users/mauricio/miniconda3/lib/python3.6/site-packages/ipykernel_launcher.py:7: UserWarning: Update your `Dense` call to the Keras 2 API: `Dense(kernel_initializer=\"uniform\", activation=\"relu\", units=6)`\n",
      "  import sys\n",
      "/Users/mauricio/miniconda3/lib/python3.6/site-packages/ipykernel_launcher.py:10: UserWarning: Update your `Dense` call to the Keras 2 API: `Dense(kernel_initializer=\"uniform\", activation=\"sigmoid\", units=1)`\n",
      "  # Remove the CWD from sys.path while we load stuff.\n"
     ]
    }
   ],
   "source": [
    "classifier = Sequential()\n",
    "\n",
    "# Adding the input layer and the first hidden layer\n",
    "classifier.add(Dense(output_dim = 6, kernel_initializer = 'uniform', activation = 'relu', input_dim = 11))\n",
    "\n",
    "# Adding the second hidden layer\n",
    "classifier.add(Dense(output_dim = 6, kernel_initializer = 'uniform', activation = 'relu'))\n",
    "\n",
    "# Adding the output layer\n",
    "classifier.add(Dense(output_dim = 1, kernel_initializer = 'uniform', activation = 'sigmoid'))\n",
    "\n",
    "# Compiling the ANN\n",
    "classifier.compile(optimizer = 'adam', loss = 'binary_crossentropy', metrics = ['accuracy'])"
   ]
  },
  {
   "cell_type": "code",
   "execution_count": 20,
   "metadata": {},
   "outputs": [
    {
     "name": "stderr",
     "output_type": "stream",
     "text": [
      "/Users/mauricio/miniconda3/lib/python3.6/site-packages/keras/models.py:837: UserWarning: The `nb_epoch` argument in `fit` has been renamed `epochs`.\n",
      "  warnings.warn('The `nb_epoch` argument in `fit` '\n"
     ]
    },
    {
     "name": "stdout",
     "output_type": "stream",
     "text": [
      "Epoch 1/100\n",
      "8000/8000 [==============================] - 3s - loss: 0.4820 - acc: 0.7957     \n",
      "Epoch 2/100\n",
      "8000/8000 [==============================] - 2s - loss: 0.4277 - acc: 0.7960     \n",
      "Epoch 3/100\n",
      "8000/8000 [==============================] - 3s - loss: 0.4236 - acc: 0.7960     \n",
      "Epoch 4/100\n",
      "8000/8000 [==============================] - 2s - loss: 0.4206 - acc: 0.8132     \n",
      "Epoch 5/100\n",
      "8000/8000 [==============================] - 2s - loss: 0.4180 - acc: 0.8216     \n",
      "Epoch 6/100\n",
      "8000/8000 [==============================] - 2s - loss: 0.4160 - acc: 0.8260     \n",
      "Epoch 7/100\n",
      "8000/8000 [==============================] - 3s - loss: 0.4138 - acc: 0.8306     \n",
      "Epoch 8/100\n",
      "8000/8000 [==============================] - 3s - loss: 0.4125 - acc: 0.8317     \n",
      "Epoch 9/100\n",
      "8000/8000 [==============================] - 3s - loss: 0.4114 - acc: 0.8322     \n",
      "Epoch 10/100\n",
      "8000/8000 [==============================] - 2s - loss: 0.4104 - acc: 0.8330     \n",
      "Epoch 11/100\n",
      "8000/8000 [==============================] - 2s - loss: 0.4093 - acc: 0.8337     \n",
      "Epoch 12/100\n",
      "8000/8000 [==============================] - 3s - loss: 0.4082 - acc: 0.8342     \n",
      "Epoch 13/100\n",
      "8000/8000 [==============================] - 3s - loss: 0.4073 - acc: 0.8332     \n",
      "Epoch 14/100\n",
      "8000/8000 [==============================] - 3s - loss: 0.4070 - acc: 0.8345     \n",
      "Epoch 15/100\n",
      "8000/8000 [==============================] - 3s - loss: 0.4063 - acc: 0.8361     \n",
      "Epoch 16/100\n",
      "8000/8000 [==============================] - 3s - loss: 0.4057 - acc: 0.8351     \n",
      "Epoch 17/100\n",
      "8000/8000 [==============================] - 3s - loss: 0.4056 - acc: 0.8356     \n",
      "Epoch 18/100\n",
      "8000/8000 [==============================] - 2s - loss: 0.4056 - acc: 0.8350     \n",
      "Epoch 19/100\n",
      "8000/8000 [==============================] - 2s - loss: 0.4050 - acc: 0.8346     \n",
      "Epoch 20/100\n",
      "8000/8000 [==============================] - 3s - loss: 0.4046 - acc: 0.8332     \n",
      "Epoch 21/100\n",
      "8000/8000 [==============================] - 3s - loss: 0.4044 - acc: 0.8340     \n",
      "Epoch 22/100\n",
      "8000/8000 [==============================] - 3s - loss: 0.4044 - acc: 0.8347     \n",
      "Epoch 23/100\n",
      "8000/8000 [==============================] - 3s - loss: 0.4040 - acc: 0.8364     \n",
      "Epoch 24/100\n",
      "8000/8000 [==============================] - 3s - loss: 0.4041 - acc: 0.8346     \n",
      "Epoch 25/100\n",
      "8000/8000 [==============================] - 3s - loss: 0.4037 - acc: 0.8357     \n",
      "Epoch 26/100\n",
      "8000/8000 [==============================] - 2s - loss: 0.4036 - acc: 0.8341     \n",
      "Epoch 27/100\n",
      "8000/8000 [==============================] - 3s - loss: 0.4034 - acc: 0.8347     \n",
      "Epoch 28/100\n",
      "8000/8000 [==============================] - 3s - loss: 0.4037 - acc: 0.8344     \n",
      "Epoch 29/100\n",
      "8000/8000 [==============================] - 2s - loss: 0.4031 - acc: 0.8350     \n",
      "Epoch 30/100\n",
      "8000/8000 [==============================] - 2s - loss: 0.4026 - acc: 0.8345     \n",
      "Epoch 31/100\n",
      "8000/8000 [==============================] - 2s - loss: 0.4031 - acc: 0.8339     \n",
      "Epoch 32/100\n",
      "8000/8000 [==============================] - 2s - loss: 0.4029 - acc: 0.8347     \n",
      "Epoch 33/100\n",
      "8000/8000 [==============================] - 2s - loss: 0.4029 - acc: 0.8352     \n",
      "Epoch 34/100\n",
      "8000/8000 [==============================] - 3s - loss: 0.4032 - acc: 0.8345     \n",
      "Epoch 35/100\n",
      "8000/8000 [==============================] - 2s - loss: 0.4025 - acc: 0.8351     \n",
      "Epoch 36/100\n",
      "8000/8000 [==============================] - 2s - loss: 0.4027 - acc: 0.8342     \n",
      "Epoch 37/100\n",
      "8000/8000 [==============================] - 2s - loss: 0.4025 - acc: 0.8349     \n",
      "Epoch 38/100\n",
      "8000/8000 [==============================] - 2s - loss: 0.4021 - acc: 0.8349     \n",
      "Epoch 39/100\n",
      "8000/8000 [==============================] - 2s - loss: 0.4025 - acc: 0.8347     \n",
      "Epoch 40/100\n",
      "8000/8000 [==============================] - 2s - loss: 0.4018 - acc: 0.8351     \n",
      "Epoch 41/100\n",
      "8000/8000 [==============================] - 2s - loss: 0.4019 - acc: 0.8340     \n",
      "Epoch 42/100\n",
      "8000/8000 [==============================] - 2s - loss: 0.4017 - acc: 0.8329     \n",
      "Epoch 43/100\n",
      "8000/8000 [==============================] - 2s - loss: 0.4021 - acc: 0.8346     \n",
      "Epoch 44/100\n",
      "8000/8000 [==============================] - 3s - loss: 0.4019 - acc: 0.8344     \n",
      "Epoch 45/100\n",
      "8000/8000 [==============================] - 3s - loss: 0.4015 - acc: 0.8344     \n",
      "Epoch 46/100\n",
      "8000/8000 [==============================] - 2s - loss: 0.4015 - acc: 0.8364     \n",
      "Epoch 47/100\n",
      "8000/8000 [==============================] - 2s - loss: 0.4015 - acc: 0.8354     \n",
      "Epoch 48/100\n",
      "8000/8000 [==============================] - 2s - loss: 0.4011 - acc: 0.8356     \n",
      "Epoch 49/100\n",
      "8000/8000 [==============================] - 2s - loss: 0.4013 - acc: 0.8355     \n",
      "Epoch 50/100\n",
      "8000/8000 [==============================] - 2s - loss: 0.4014 - acc: 0.8346     \n",
      "Epoch 51/100\n",
      "8000/8000 [==============================] - 2s - loss: 0.4011 - acc: 0.8346     \n",
      "Epoch 52/100\n",
      "8000/8000 [==============================] - 3s - loss: 0.4011 - acc: 0.8351     \n",
      "Epoch 53/100\n",
      "8000/8000 [==============================] - 2s - loss: 0.4013 - acc: 0.8351     \n",
      "Epoch 54/100\n",
      "8000/8000 [==============================] - 3s - loss: 0.4011 - acc: 0.8346     \n",
      "Epoch 55/100\n",
      "8000/8000 [==============================] - 2s - loss: 0.4013 - acc: 0.8344     \n",
      "Epoch 56/100\n",
      "8000/8000 [==============================] - 3s - loss: 0.4009 - acc: 0.8356     \n",
      "Epoch 57/100\n",
      "8000/8000 [==============================] - 2s - loss: 0.4010 - acc: 0.8350     \n",
      "Epoch 58/100\n",
      "8000/8000 [==============================] - 2s - loss: 0.4011 - acc: 0.8342     \n",
      "Epoch 59/100\n",
      "8000/8000 [==============================] - 2s - loss: 0.4013 - acc: 0.8339     \n",
      "Epoch 60/100\n",
      "8000/8000 [==============================] - 2s - loss: 0.4005 - acc: 0.8340     \n",
      "Epoch 61/100\n",
      "8000/8000 [==============================] - 2s - loss: 0.4008 - acc: 0.8342     \n",
      "Epoch 62/100\n",
      "8000/8000 [==============================] - 2s - loss: 0.4012 - acc: 0.8346     \n",
      "Epoch 63/100\n",
      "8000/8000 [==============================] - 2s - loss: 0.4010 - acc: 0.8339     \n",
      "Epoch 64/100\n",
      "8000/8000 [==============================] - 2s - loss: 0.4009 - acc: 0.8340     \n",
      "Epoch 65/100\n",
      "8000/8000 [==============================] - 2s - loss: 0.4010 - acc: 0.8341     \n",
      "Epoch 66/100\n",
      "8000/8000 [==============================] - 2s - loss: 0.4008 - acc: 0.8342     \n",
      "Epoch 67/100\n",
      "8000/8000 [==============================] - 3s - loss: 0.4009 - acc: 0.8340     \n",
      "Epoch 68/100\n",
      "8000/8000 [==============================] - 3s - loss: 0.4011 - acc: 0.8350     \n",
      "Epoch 69/100\n",
      "8000/8000 [==============================] - 2s - loss: 0.4007 - acc: 0.8331     \n",
      "Epoch 70/100\n",
      "8000/8000 [==============================] - 3s - loss: 0.4005 - acc: 0.8339     \n",
      "Epoch 71/100\n",
      "8000/8000 [==============================] - 2s - loss: 0.4006 - acc: 0.8345     \n",
      "Epoch 72/100\n",
      "8000/8000 [==============================] - 3s - loss: 0.4007 - acc: 0.8336     \n",
      "Epoch 73/100\n",
      "8000/8000 [==============================] - 2s - loss: 0.4006 - acc: 0.8319     \n",
      "Epoch 74/100\n",
      "8000/8000 [==============================] - 2s - loss: 0.4005 - acc: 0.8349     \n",
      "Epoch 75/100\n",
      "8000/8000 [==============================] - 3s - loss: 0.4008 - acc: 0.8346     \n",
      "Epoch 76/100\n",
      "8000/8000 [==============================] - 3s - loss: 0.4002 - acc: 0.8342     \n",
      "Epoch 77/100\n",
      "8000/8000 [==============================] - 2s - loss: 0.4005 - acc: 0.8340     \n",
      "Epoch 78/100\n",
      "8000/8000 [==============================] - 2s - loss: 0.4000 - acc: 0.8337     \n",
      "Epoch 79/100\n",
      "8000/8000 [==============================] - 2s - loss: 0.4003 - acc: 0.8351     \n",
      "Epoch 80/100\n",
      "8000/8000 [==============================] - 3s - loss: 0.4002 - acc: 0.8347     \n",
      "Epoch 81/100\n",
      "8000/8000 [==============================] - 2s - loss: 0.4000 - acc: 0.8344     \n",
      "Epoch 82/100\n",
      "8000/8000 [==============================] - 2s - loss: 0.4002 - acc: 0.8337     \n",
      "Epoch 83/100\n",
      "8000/8000 [==============================] - 2s - loss: 0.4003 - acc: 0.8347     \n",
      "Epoch 84/100\n",
      "8000/8000 [==============================] - 2s - loss: 0.4001 - acc: 0.8336     \n",
      "Epoch 85/100\n",
      "8000/8000 [==============================] - 2s - loss: 0.3999 - acc: 0.8357     \n",
      "Epoch 86/100\n",
      "8000/8000 [==============================] - 3s - loss: 0.4002 - acc: 0.8347     \n",
      "Epoch 87/100\n",
      "8000/8000 [==============================] - 2s - loss: 0.4000 - acc: 0.8334     \n",
      "Epoch 88/100\n",
      "8000/8000 [==============================] - 2s - loss: 0.3998 - acc: 0.8346     \n",
      "Epoch 89/100\n",
      "8000/8000 [==============================] - 3s - loss: 0.3996 - acc: 0.8339     \n",
      "Epoch 90/100\n",
      "8000/8000 [==============================] - 2s - loss: 0.4000 - acc: 0.8350     \n",
      "Epoch 91/100\n",
      "8000/8000 [==============================] - 2s - loss: 0.3996 - acc: 0.8357     \n",
      "Epoch 92/100\n",
      "8000/8000 [==============================] - 2s - loss: 0.4001 - acc: 0.8347     \n",
      "Epoch 93/100\n",
      "8000/8000 [==============================] - 2s - loss: 0.4000 - acc: 0.8341     \n",
      "Epoch 94/100\n",
      "8000/8000 [==============================] - 2s - loss: 0.3994 - acc: 0.8347     \n",
      "Epoch 95/100\n",
      "8000/8000 [==============================] - 3s - loss: 0.3996 - acc: 0.8345     \n",
      "Epoch 96/100\n",
      "8000/8000 [==============================] - 2s - loss: 0.3999 - acc: 0.8342     \n",
      "Epoch 97/100\n",
      "8000/8000 [==============================] - 2s - loss: 0.3998 - acc: 0.8351     \n",
      "Epoch 98/100\n",
      "8000/8000 [==============================] - 2s - loss: 0.3998 - acc: 0.8332     \n",
      "Epoch 99/100\n",
      "8000/8000 [==============================] - 2s - loss: 0.3997 - acc: 0.8356     \n",
      "Epoch 100/100\n",
      "8000/8000 [==============================] - 2s - loss: 0.3994 - acc: 0.8335     \n"
     ]
    },
    {
     "data": {
      "text/plain": [
       "<keras.callbacks.History at 0x124742eb8>"
      ]
     },
     "execution_count": 20,
     "metadata": {},
     "output_type": "execute_result"
    }
   ],
   "source": [
    "classifier.fit(X_train, y_train, batch_size = 10, nb_epoch = 100)"
   ]
  },
  {
   "cell_type": "code",
   "execution_count": 30,
   "metadata": {
    "collapsed": true
   },
   "outputs": [],
   "source": [
    "y_pred = classifier.predict(X_test)\n",
    "y_pred = (y_pred > 0.5)"
   ]
  },
  {
   "cell_type": "code",
   "execution_count": 31,
   "metadata": {
    "collapsed": true
   },
   "outputs": [],
   "source": [
    "# Making the Confusion Matrix\n",
    "from sklearn.metrics import confusion_matrix\n",
    "cm = confusion_matrix(y_test, y_pred)"
   ]
  },
  {
   "cell_type": "code",
   "execution_count": 32,
   "metadata": {},
   "outputs": [
    {
     "data": {
      "text/plain": [
       "array([[1545,   50],\n",
       "       [ 267,  138]])"
      ]
     },
     "execution_count": 32,
     "metadata": {},
     "output_type": "execute_result"
    }
   ],
   "source": [
    "cm"
   ]
  },
  {
   "cell_type": "code",
   "execution_count": null,
   "metadata": {
    "collapsed": true
   },
   "outputs": [],
   "source": []
  }
 ],
 "metadata": {
  "kernelspec": {
   "display_name": "Python 3",
   "language": "python",
   "name": "python3"
  },
  "language_info": {
   "codemirror_mode": {
    "name": "ipython",
    "version": 3
   },
   "file_extension": ".py",
   "mimetype": "text/x-python",
   "name": "python",
   "nbconvert_exporter": "python",
   "pygments_lexer": "ipython3",
   "version": "3.6.2"
  },
  "toc": {
   "colors": {
    "hover_highlight": "#DAA520",
    "navigate_num": "#000000",
    "navigate_text": "#333333",
    "running_highlight": "#FF0000",
    "selected_highlight": "#FFD700",
    "sidebar_border": "#EEEEEE",
    "wrapper_background": "#FFFFFF"
   },
   "moveMenuLeft": true,
   "nav_menu": {
    "height": "12px",
    "width": "252px"
   },
   "navigate_menu": true,
   "number_sections": true,
   "sideBar": true,
   "threshold": 4,
   "toc_cell": false,
   "toc_section_display": "block",
   "toc_window_display": false,
   "widenNotebook": false
  }
 },
 "nbformat": 4,
 "nbformat_minor": 2
}
