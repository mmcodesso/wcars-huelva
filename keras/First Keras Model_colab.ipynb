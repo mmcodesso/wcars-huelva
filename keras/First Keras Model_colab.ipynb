{
  "nbformat": 4,
  "nbformat_minor": 0,
  "metadata": {
    "colab": {
      "name": "First Keras Model.ipynb",
      "version": "0.3.2",
      "provenance": []
    },
    "language_info": {
      "codemirror_mode": {
        "name": "ipython",
        "version": 3
      },
      "file_extension": ".py",
      "mimetype": "text/x-python",
      "name": "python",
      "nbconvert_exporter": "python",
      "pygments_lexer": "ipython3",
      "version": "3.6.2"
    },
    "kernelspec": {
      "name": "python3",
      "display_name": "Python 3"
    },
    "accelerator": "TPU"
  },
  "cells": [
    {
      "cell_type": "code",
      "metadata": {
        "id": "XmbJX2I9p8FF",
        "colab_type": "code",
        "colab": {}
      },
      "source": [
        ""
      ],
      "execution_count": 0,
      "outputs": []
    },
    {
      "cell_type": "code",
      "metadata": {
        "id": "V5zX2wFup8FN",
        "colab_type": "code",
        "colab": {}
      },
      "source": [
        "# Importing the libraries\n",
        "import numpy as np\n",
        "import matplotlib.pyplot as plt\n",
        "import pandas as pd"
      ],
      "execution_count": 0,
      "outputs": []
    },
    {
      "cell_type": "code",
      "metadata": {
        "id": "GGA2Gxi_p8FS",
        "colab_type": "code",
        "colab": {}
      },
      "source": [
        "# Importing the dataset\n",
        "dataset = pd.read_csv('https://raw.githubusercontent.com/mmcodesso/wcars-huelva/master/keras/Churn_Modelling.csv')\n",
        "X = dataset.iloc[:, 3:13].values\n",
        "y = dataset.iloc[:, 13].values"
      ],
      "execution_count": 0,
      "outputs": []
    },
    {
      "cell_type": "code",
      "metadata": {
        "id": "wtMlim_Xp8FX",
        "colab_type": "code",
        "colab": {
          "base_uri": "https://localhost:8080/",
          "height": 226
        },
        "outputId": "8ccc7dc3-1681-4dd2-b16f-4bc794ba55b0"
      },
      "source": [
        "dataset.head()"
      ],
      "execution_count": 3,
      "outputs": [
        {
          "output_type": "execute_result",
          "data": {
            "text/html": [
              "<div>\n",
              "<style scoped>\n",
              "    .dataframe tbody tr th:only-of-type {\n",
              "        vertical-align: middle;\n",
              "    }\n",
              "\n",
              "    .dataframe tbody tr th {\n",
              "        vertical-align: top;\n",
              "    }\n",
              "\n",
              "    .dataframe thead th {\n",
              "        text-align: right;\n",
              "    }\n",
              "</style>\n",
              "<table border=\"1\" class=\"dataframe\">\n",
              "  <thead>\n",
              "    <tr style=\"text-align: right;\">\n",
              "      <th></th>\n",
              "      <th>RowNumber</th>\n",
              "      <th>CustomerId</th>\n",
              "      <th>Surname</th>\n",
              "      <th>CreditScore</th>\n",
              "      <th>Geography</th>\n",
              "      <th>Gender</th>\n",
              "      <th>Age</th>\n",
              "      <th>Tenure</th>\n",
              "      <th>Balance</th>\n",
              "      <th>NumOfProducts</th>\n",
              "      <th>HasCrCard</th>\n",
              "      <th>IsActiveMember</th>\n",
              "      <th>EstimatedSalary</th>\n",
              "      <th>Exited</th>\n",
              "    </tr>\n",
              "  </thead>\n",
              "  <tbody>\n",
              "    <tr>\n",
              "      <th>0</th>\n",
              "      <td>1</td>\n",
              "      <td>15634602</td>\n",
              "      <td>Hargrave</td>\n",
              "      <td>619</td>\n",
              "      <td>France</td>\n",
              "      <td>Female</td>\n",
              "      <td>42</td>\n",
              "      <td>2</td>\n",
              "      <td>0.00</td>\n",
              "      <td>1</td>\n",
              "      <td>1</td>\n",
              "      <td>1</td>\n",
              "      <td>101348.88</td>\n",
              "      <td>1</td>\n",
              "    </tr>\n",
              "    <tr>\n",
              "      <th>1</th>\n",
              "      <td>2</td>\n",
              "      <td>15647311</td>\n",
              "      <td>Hill</td>\n",
              "      <td>608</td>\n",
              "      <td>Spain</td>\n",
              "      <td>Female</td>\n",
              "      <td>41</td>\n",
              "      <td>1</td>\n",
              "      <td>83807.86</td>\n",
              "      <td>1</td>\n",
              "      <td>0</td>\n",
              "      <td>1</td>\n",
              "      <td>112542.58</td>\n",
              "      <td>0</td>\n",
              "    </tr>\n",
              "    <tr>\n",
              "      <th>2</th>\n",
              "      <td>3</td>\n",
              "      <td>15619304</td>\n",
              "      <td>Onio</td>\n",
              "      <td>502</td>\n",
              "      <td>France</td>\n",
              "      <td>Female</td>\n",
              "      <td>42</td>\n",
              "      <td>8</td>\n",
              "      <td>159660.80</td>\n",
              "      <td>3</td>\n",
              "      <td>1</td>\n",
              "      <td>0</td>\n",
              "      <td>113931.57</td>\n",
              "      <td>1</td>\n",
              "    </tr>\n",
              "    <tr>\n",
              "      <th>3</th>\n",
              "      <td>4</td>\n",
              "      <td>15701354</td>\n",
              "      <td>Boni</td>\n",
              "      <td>699</td>\n",
              "      <td>France</td>\n",
              "      <td>Female</td>\n",
              "      <td>39</td>\n",
              "      <td>1</td>\n",
              "      <td>0.00</td>\n",
              "      <td>2</td>\n",
              "      <td>0</td>\n",
              "      <td>0</td>\n",
              "      <td>93826.63</td>\n",
              "      <td>0</td>\n",
              "    </tr>\n",
              "    <tr>\n",
              "      <th>4</th>\n",
              "      <td>5</td>\n",
              "      <td>15737888</td>\n",
              "      <td>Mitchell</td>\n",
              "      <td>850</td>\n",
              "      <td>Spain</td>\n",
              "      <td>Female</td>\n",
              "      <td>43</td>\n",
              "      <td>2</td>\n",
              "      <td>125510.82</td>\n",
              "      <td>1</td>\n",
              "      <td>1</td>\n",
              "      <td>1</td>\n",
              "      <td>79084.10</td>\n",
              "      <td>0</td>\n",
              "    </tr>\n",
              "  </tbody>\n",
              "</table>\n",
              "</div>"
            ],
            "text/plain": [
              "   RowNumber  CustomerId   Surname  ...  IsActiveMember EstimatedSalary Exited\n",
              "0          1    15634602  Hargrave  ...               1       101348.88      1\n",
              "1          2    15647311      Hill  ...               1       112542.58      0\n",
              "2          3    15619304      Onio  ...               0       113931.57      1\n",
              "3          4    15701354      Boni  ...               0        93826.63      0\n",
              "4          5    15737888  Mitchell  ...               1        79084.10      0\n",
              "\n",
              "[5 rows x 14 columns]"
            ]
          },
          "metadata": {
            "tags": []
          },
          "execution_count": 3
        }
      ]
    },
    {
      "cell_type": "code",
      "metadata": {
        "id": "MvX4Oy06p8Fe",
        "colab_type": "code",
        "colab": {
          "base_uri": "https://localhost:8080/",
          "height": 147
        },
        "outputId": "fe21b332-7d30-42f0-9dde-30fc85fc00d5"
      },
      "source": [
        "# Encoding categorical data\n",
        "from sklearn.preprocessing import LabelEncoder, OneHotEncoder\n",
        "labelencoder_X_1 = LabelEncoder()\n",
        "X[:, 1] = labelencoder_X_1.fit_transform(X[:, 1])\n",
        "labelencoder_X_2 = LabelEncoder()\n",
        "X[:, 2] = labelencoder_X_2.fit_transform(X[:, 2])\n",
        "onehotencoder = OneHotEncoder(categorical_features = [1])\n",
        "X = onehotencoder.fit_transform(X).toarray()\n",
        "X = X[:, 1:]"
      ],
      "execution_count": 4,
      "outputs": [
        {
          "output_type": "stream",
          "text": [
            "/usr/local/lib/python3.6/dist-packages/sklearn/preprocessing/_encoders.py:415: FutureWarning: The handling of integer data will change in version 0.22. Currently, the categories are determined based on the range [0, max(values)], while in the future they will be determined based on the unique values.\n",
            "If you want the future behaviour and silence this warning, you can specify \"categories='auto'\".\n",
            "In case you used a LabelEncoder before this OneHotEncoder to convert the categories to integers, then you can now use the OneHotEncoder directly.\n",
            "  warnings.warn(msg, FutureWarning)\n",
            "/usr/local/lib/python3.6/dist-packages/sklearn/preprocessing/_encoders.py:451: DeprecationWarning: The 'categorical_features' keyword is deprecated in version 0.20 and will be removed in 0.22. You can use the ColumnTransformer instead.\n",
            "  \"use the ColumnTransformer instead.\", DeprecationWarning)\n"
          ],
          "name": "stderr"
        }
      ]
    },
    {
      "cell_type": "code",
      "metadata": {
        "id": "2FNwOtpSp8Fj",
        "colab_type": "code",
        "colab": {}
      },
      "source": [
        "# Splitting the dataset into the Training set and Test set\n",
        "from sklearn.model_selection import train_test_split\n",
        "X_train, X_test, y_train, y_test = train_test_split(X, y, test_size = 0.2, random_state = 0)"
      ],
      "execution_count": 0,
      "outputs": []
    },
    {
      "cell_type": "code",
      "metadata": {
        "id": "jD9Xgy__p8Fs",
        "colab_type": "code",
        "colab": {}
      },
      "source": [
        "# Feature Scaling\n",
        "from sklearn.preprocessing import StandardScaler\n",
        "sc = StandardScaler()\n",
        "X_train = sc.fit_transform(X_train)\n",
        "X_test = sc.transform(X_test)"
      ],
      "execution_count": 0,
      "outputs": []
    },
    {
      "cell_type": "code",
      "metadata": {
        "id": "M7jImMNtp8Fx",
        "colab_type": "code",
        "colab": {
          "base_uri": "https://localhost:8080/",
          "height": 35
        },
        "outputId": "73809b87-fa96-4c0c-9810-94e08484d4fe"
      },
      "source": [
        "# Importing the Keras libraries and packages\n",
        "import keras\n",
        "from keras.models import Sequential\n",
        "from keras.layers import Dense"
      ],
      "execution_count": 7,
      "outputs": [
        {
          "output_type": "stream",
          "text": [
            "Using TensorFlow backend.\n"
          ],
          "name": "stderr"
        }
      ]
    },
    {
      "cell_type": "code",
      "metadata": {
        "id": "wYnL5UK6p8F1",
        "colab_type": "code",
        "colab": {
          "base_uri": "https://localhost:8080/",
          "height": 404
        },
        "outputId": "bff56337-f397-4934-d157-5f4aefe86124"
      },
      "source": [
        "classifier = Sequential()\n",
        "\n",
        "# Adding the input layer and the first hidden layer\n",
        "classifier.add(Dense(output_dim = 6, kernel_initializer = 'uniform', activation = 'relu', input_dim = 11))\n",
        "\n",
        "# Adding the second hidden layer\n",
        "classifier.add(Dense(output_dim = 6, kernel_initializer = 'uniform', activation = 'relu'))\n",
        "\n",
        "# Adding the output layer\n",
        "classifier.add(Dense(output_dim = 1, kernel_initializer = 'uniform', activation = 'sigmoid'))\n",
        "\n",
        "# Compiling the ANN\n",
        "classifier.compile(optimizer = 'adam', loss = 'binary_crossentropy', metrics = ['accuracy'])"
      ],
      "execution_count": 8,
      "outputs": [
        {
          "output_type": "stream",
          "text": [
            "WARNING: Logging before flag parsing goes to stderr.\n",
            "W0707 23:05:15.764534 140242286462848 deprecation_wrapper.py:119] From /usr/local/lib/python3.6/dist-packages/keras/backend/tensorflow_backend.py:74: The name tf.get_default_graph is deprecated. Please use tf.compat.v1.get_default_graph instead.\n",
            "\n",
            "/usr/local/lib/python3.6/dist-packages/ipykernel_launcher.py:4: UserWarning: Update your `Dense` call to the Keras 2 API: `Dense(kernel_initializer=\"uniform\", activation=\"relu\", input_dim=11, units=6)`\n",
            "  after removing the cwd from sys.path.\n",
            "W0707 23:05:15.823372 140242286462848 deprecation_wrapper.py:119] From /usr/local/lib/python3.6/dist-packages/keras/backend/tensorflow_backend.py:517: The name tf.placeholder is deprecated. Please use tf.compat.v1.placeholder instead.\n",
            "\n",
            "W0707 23:05:15.831407 140242286462848 deprecation_wrapper.py:119] From /usr/local/lib/python3.6/dist-packages/keras/backend/tensorflow_backend.py:4138: The name tf.random_uniform is deprecated. Please use tf.random.uniform instead.\n",
            "\n",
            "/usr/local/lib/python3.6/dist-packages/ipykernel_launcher.py:7: UserWarning: Update your `Dense` call to the Keras 2 API: `Dense(kernel_initializer=\"uniform\", activation=\"relu\", units=6)`\n",
            "  import sys\n",
            "/usr/local/lib/python3.6/dist-packages/ipykernel_launcher.py:10: UserWarning: Update your `Dense` call to the Keras 2 API: `Dense(kernel_initializer=\"uniform\", activation=\"sigmoid\", units=1)`\n",
            "  # Remove the CWD from sys.path while we load stuff.\n",
            "W0707 23:05:15.884989 140242286462848 deprecation_wrapper.py:119] From /usr/local/lib/python3.6/dist-packages/keras/optimizers.py:790: The name tf.train.Optimizer is deprecated. Please use tf.compat.v1.train.Optimizer instead.\n",
            "\n",
            "W0707 23:05:15.910088 140242286462848 deprecation_wrapper.py:119] From /usr/local/lib/python3.6/dist-packages/keras/backend/tensorflow_backend.py:3376: The name tf.log is deprecated. Please use tf.math.log instead.\n",
            "\n",
            "W0707 23:05:15.919413 140242286462848 deprecation.py:323] From /usr/local/lib/python3.6/dist-packages/tensorflow/python/ops/nn_impl.py:180: add_dispatch_support.<locals>.wrapper (from tensorflow.python.ops.array_ops) is deprecated and will be removed in a future version.\n",
            "Instructions for updating:\n",
            "Use tf.where in 2.0, which has the same broadcast rule as np.where\n"
          ],
          "name": "stderr"
        }
      ]
    },
    {
      "cell_type": "code",
      "metadata": {
        "id": "NZSzl_D3p8F8",
        "colab_type": "code",
        "colab": {
          "base_uri": "https://localhost:8080/",
          "height": 1000
        },
        "outputId": "5cb39bd4-4e6e-4e8f-c150-7aa87267c104"
      },
      "source": [
        "classifier.fit(X_train, y_train, batch_size = 10, nb_epoch = 100)"
      ],
      "execution_count": 9,
      "outputs": [
        {
          "output_type": "stream",
          "text": [
            "/usr/local/lib/python3.6/dist-packages/ipykernel_launcher.py:1: UserWarning: The `nb_epoch` argument in `fit` has been renamed `epochs`.\n",
            "  \"\"\"Entry point for launching an IPython kernel.\n",
            "W0707 23:05:18.832216 140242286462848 deprecation_wrapper.py:119] From /usr/local/lib/python3.6/dist-packages/keras/backend/tensorflow_backend.py:986: The name tf.assign_add is deprecated. Please use tf.compat.v1.assign_add instead.\n",
            "\n"
          ],
          "name": "stderr"
        },
        {
          "output_type": "stream",
          "text": [
            "Epoch 1/100\n",
            "8000/8000 [==============================] - 2s 195us/step - loss: 0.4804 - acc: 0.7992\n",
            "Epoch 2/100\n",
            "8000/8000 [==============================] - 1s 110us/step - loss: 0.4060 - acc: 0.8271\n",
            "Epoch 3/100\n",
            "8000/8000 [==============================] - 1s 110us/step - loss: 0.3909 - acc: 0.8334\n",
            "Epoch 4/100\n",
            "8000/8000 [==============================] - 1s 110us/step - loss: 0.3804 - acc: 0.8331\n",
            "Epoch 5/100\n",
            "8000/8000 [==============================] - 1s 111us/step - loss: 0.3738 - acc: 0.8391\n",
            "Epoch 6/100\n",
            "8000/8000 [==============================] - 1s 107us/step - loss: 0.3687 - acc: 0.8464\n",
            "Epoch 7/100\n",
            "8000/8000 [==============================] - 1s 114us/step - loss: 0.3656 - acc: 0.8486\n",
            "Epoch 8/100\n",
            "8000/8000 [==============================] - 1s 113us/step - loss: 0.3639 - acc: 0.8512\n",
            "Epoch 9/100\n",
            "8000/8000 [==============================] - 1s 115us/step - loss: 0.3606 - acc: 0.8511\n",
            "Epoch 10/100\n",
            "8000/8000 [==============================] - 1s 111us/step - loss: 0.3593 - acc: 0.8536\n",
            "Epoch 11/100\n",
            "8000/8000 [==============================] - 1s 111us/step - loss: 0.3568 - acc: 0.8542\n",
            "Epoch 12/100\n",
            "8000/8000 [==============================] - 1s 110us/step - loss: 0.3568 - acc: 0.8560\n",
            "Epoch 13/100\n",
            "8000/8000 [==============================] - 1s 110us/step - loss: 0.3554 - acc: 0.8549\n",
            "Epoch 14/100\n",
            "8000/8000 [==============================] - 1s 110us/step - loss: 0.3546 - acc: 0.8559\n",
            "Epoch 15/100\n",
            "8000/8000 [==============================] - 1s 111us/step - loss: 0.3540 - acc: 0.8557\n",
            "Epoch 16/100\n",
            "8000/8000 [==============================] - 1s 113us/step - loss: 0.3537 - acc: 0.8556\n",
            "Epoch 17/100\n",
            "8000/8000 [==============================] - 1s 112us/step - loss: 0.3531 - acc: 0.8567\n",
            "Epoch 18/100\n",
            "8000/8000 [==============================] - 1s 114us/step - loss: 0.3530 - acc: 0.8579\n",
            "Epoch 19/100\n",
            "8000/8000 [==============================] - 1s 114us/step - loss: 0.3525 - acc: 0.8564\n",
            "Epoch 20/100\n",
            "8000/8000 [==============================] - 1s 113us/step - loss: 0.3518 - acc: 0.8567\n",
            "Epoch 21/100\n",
            "8000/8000 [==============================] - 1s 114us/step - loss: 0.3508 - acc: 0.8570\n",
            "Epoch 22/100\n",
            "8000/8000 [==============================] - 1s 113us/step - loss: 0.3512 - acc: 0.8577\n",
            "Epoch 23/100\n",
            "8000/8000 [==============================] - 1s 111us/step - loss: 0.3514 - acc: 0.8591\n",
            "Epoch 24/100\n",
            "8000/8000 [==============================] - 1s 111us/step - loss: 0.3497 - acc: 0.8590\n",
            "Epoch 25/100\n",
            "8000/8000 [==============================] - 1s 111us/step - loss: 0.3497 - acc: 0.8580\n",
            "Epoch 26/100\n",
            "8000/8000 [==============================] - 1s 112us/step - loss: 0.3492 - acc: 0.8586\n",
            "Epoch 27/100\n",
            "8000/8000 [==============================] - 1s 112us/step - loss: 0.3491 - acc: 0.8587\n",
            "Epoch 28/100\n",
            "8000/8000 [==============================] - 1s 111us/step - loss: 0.3490 - acc: 0.8565\n",
            "Epoch 29/100\n",
            "8000/8000 [==============================] - 1s 112us/step - loss: 0.3495 - acc: 0.8584\n",
            "Epoch 30/100\n",
            "8000/8000 [==============================] - 1s 113us/step - loss: 0.3482 - acc: 0.8587\n",
            "Epoch 31/100\n",
            "8000/8000 [==============================] - 1s 112us/step - loss: 0.3485 - acc: 0.8579\n",
            "Epoch 32/100\n",
            "8000/8000 [==============================] - 1s 113us/step - loss: 0.3475 - acc: 0.8612\n",
            "Epoch 33/100\n",
            "8000/8000 [==============================] - 1s 111us/step - loss: 0.3476 - acc: 0.8579\n",
            "Epoch 34/100\n",
            "8000/8000 [==============================] - 1s 110us/step - loss: 0.3479 - acc: 0.8565\n",
            "Epoch 35/100\n",
            "8000/8000 [==============================] - 1s 111us/step - loss: 0.3475 - acc: 0.8600\n",
            "Epoch 36/100\n",
            "8000/8000 [==============================] - 1s 112us/step - loss: 0.3473 - acc: 0.8586\n",
            "Epoch 37/100\n",
            "8000/8000 [==============================] - 1s 112us/step - loss: 0.3461 - acc: 0.8599\n",
            "Epoch 38/100\n",
            "8000/8000 [==============================] - 1s 111us/step - loss: 0.3453 - acc: 0.8606\n",
            "Epoch 39/100\n",
            "8000/8000 [==============================] - 1s 109us/step - loss: 0.3444 - acc: 0.8585\n",
            "Epoch 40/100\n",
            "8000/8000 [==============================] - 1s 111us/step - loss: 0.3452 - acc: 0.8586\n",
            "Epoch 41/100\n",
            "8000/8000 [==============================] - 1s 111us/step - loss: 0.3441 - acc: 0.8597\n",
            "Epoch 42/100\n",
            "8000/8000 [==============================] - 1s 111us/step - loss: 0.3443 - acc: 0.8582\n",
            "Epoch 43/100\n",
            "8000/8000 [==============================] - 1s 112us/step - loss: 0.3437 - acc: 0.8592\n",
            "Epoch 44/100\n",
            "8000/8000 [==============================] - 1s 114us/step - loss: 0.3431 - acc: 0.8596\n",
            "Epoch 45/100\n",
            "8000/8000 [==============================] - 1s 110us/step - loss: 0.3437 - acc: 0.8582\n",
            "Epoch 46/100\n",
            "8000/8000 [==============================] - 1s 111us/step - loss: 0.3426 - acc: 0.8582\n",
            "Epoch 47/100\n",
            "8000/8000 [==============================] - 1s 111us/step - loss: 0.3423 - acc: 0.8580\n",
            "Epoch 48/100\n",
            "8000/8000 [==============================] - 1s 111us/step - loss: 0.3427 - acc: 0.8589\n",
            "Epoch 49/100\n",
            "8000/8000 [==============================] - 1s 110us/step - loss: 0.3414 - acc: 0.8604\n",
            "Epoch 50/100\n",
            "8000/8000 [==============================] - 1s 110us/step - loss: 0.3417 - acc: 0.8580\n",
            "Epoch 51/100\n",
            "8000/8000 [==============================] - 1s 112us/step - loss: 0.3413 - acc: 0.8586\n",
            "Epoch 52/100\n",
            "8000/8000 [==============================] - 1s 110us/step - loss: 0.3405 - acc: 0.8592\n",
            "Epoch 53/100\n",
            "8000/8000 [==============================] - 1s 111us/step - loss: 0.3410 - acc: 0.8589\n",
            "Epoch 54/100\n",
            "8000/8000 [==============================] - 1s 110us/step - loss: 0.3413 - acc: 0.8577\n",
            "Epoch 55/100\n",
            "8000/8000 [==============================] - 1s 112us/step - loss: 0.3415 - acc: 0.8600\n",
            "Epoch 56/100\n",
            "8000/8000 [==============================] - 1s 111us/step - loss: 0.3408 - acc: 0.8615\n",
            "Epoch 57/100\n",
            "8000/8000 [==============================] - 1s 111us/step - loss: 0.3405 - acc: 0.8600\n",
            "Epoch 58/100\n",
            "8000/8000 [==============================] - 1s 113us/step - loss: 0.3414 - acc: 0.8601\n",
            "Epoch 59/100\n",
            "8000/8000 [==============================] - 1s 111us/step - loss: 0.3410 - acc: 0.8592\n",
            "Epoch 60/100\n",
            "8000/8000 [==============================] - 1s 111us/step - loss: 0.3396 - acc: 0.8599\n",
            "Epoch 61/100\n",
            "8000/8000 [==============================] - 1s 111us/step - loss: 0.3405 - acc: 0.8602\n",
            "Epoch 62/100\n",
            "8000/8000 [==============================] - 1s 113us/step - loss: 0.3408 - acc: 0.8602\n",
            "Epoch 63/100\n",
            "8000/8000 [==============================] - 1s 110us/step - loss: 0.3402 - acc: 0.8607\n",
            "Epoch 64/100\n",
            "8000/8000 [==============================] - 1s 110us/step - loss: 0.3406 - acc: 0.8592\n",
            "Epoch 65/100\n",
            "8000/8000 [==============================] - 1s 109us/step - loss: 0.3406 - acc: 0.8599\n",
            "Epoch 66/100\n",
            "8000/8000 [==============================] - 1s 110us/step - loss: 0.3397 - acc: 0.8596\n",
            "Epoch 67/100\n",
            "8000/8000 [==============================] - 1s 113us/step - loss: 0.3406 - acc: 0.8612\n",
            "Epoch 68/100\n",
            "8000/8000 [==============================] - 1s 110us/step - loss: 0.3398 - acc: 0.8617\n",
            "Epoch 69/100\n",
            "8000/8000 [==============================] - 1s 109us/step - loss: 0.3404 - acc: 0.8600\n",
            "Epoch 70/100\n",
            "8000/8000 [==============================] - 1s 110us/step - loss: 0.3395 - acc: 0.8615\n",
            "Epoch 71/100\n",
            "8000/8000 [==============================] - 1s 112us/step - loss: 0.3402 - acc: 0.8585\n",
            "Epoch 72/100\n",
            "8000/8000 [==============================] - 1s 111us/step - loss: 0.3397 - acc: 0.8611\n",
            "Epoch 73/100\n",
            "8000/8000 [==============================] - 1s 112us/step - loss: 0.3393 - acc: 0.8596\n",
            "Epoch 74/100\n",
            "8000/8000 [==============================] - 1s 110us/step - loss: 0.3390 - acc: 0.8605\n",
            "Epoch 75/100\n",
            "8000/8000 [==============================] - 1s 111us/step - loss: 0.3381 - acc: 0.8626\n",
            "Epoch 76/100\n",
            "8000/8000 [==============================] - 1s 110us/step - loss: 0.3395 - acc: 0.8610\n",
            "Epoch 77/100\n",
            "8000/8000 [==============================] - 1s 110us/step - loss: 0.3396 - acc: 0.8625\n",
            "Epoch 78/100\n",
            "8000/8000 [==============================] - 1s 114us/step - loss: 0.3394 - acc: 0.8607\n",
            "Epoch 79/100\n",
            "8000/8000 [==============================] - 1s 112us/step - loss: 0.3395 - acc: 0.8611\n",
            "Epoch 80/100\n",
            "8000/8000 [==============================] - 1s 109us/step - loss: 0.3394 - acc: 0.8606\n",
            "Epoch 81/100\n",
            "8000/8000 [==============================] - 1s 109us/step - loss: 0.3387 - acc: 0.8600\n",
            "Epoch 82/100\n",
            "8000/8000 [==============================] - 1s 110us/step - loss: 0.3392 - acc: 0.8599\n",
            "Epoch 83/100\n",
            "8000/8000 [==============================] - 1s 110us/step - loss: 0.3390 - acc: 0.8634\n",
            "Epoch 84/100\n",
            "8000/8000 [==============================] - 1s 111us/step - loss: 0.3393 - acc: 0.8624\n",
            "Epoch 85/100\n",
            "8000/8000 [==============================] - 1s 113us/step - loss: 0.3392 - acc: 0.8611\n",
            "Epoch 86/100\n",
            "8000/8000 [==============================] - 1s 113us/step - loss: 0.3390 - acc: 0.8607\n",
            "Epoch 87/100\n",
            "8000/8000 [==============================] - 1s 111us/step - loss: 0.3386 - acc: 0.8611\n",
            "Epoch 88/100\n",
            "8000/8000 [==============================] - 1s 109us/step - loss: 0.3386 - acc: 0.8634\n",
            "Epoch 89/100\n",
            "8000/8000 [==============================] - 1s 112us/step - loss: 0.3390 - acc: 0.8620\n",
            "Epoch 90/100\n",
            "8000/8000 [==============================] - 1s 112us/step - loss: 0.3384 - acc: 0.8620\n",
            "Epoch 91/100\n",
            "8000/8000 [==============================] - 1s 110us/step - loss: 0.3379 - acc: 0.8586\n",
            "Epoch 92/100\n",
            "8000/8000 [==============================] - 1s 111us/step - loss: 0.3383 - acc: 0.8609\n",
            "Epoch 93/100\n",
            "8000/8000 [==============================] - 1s 112us/step - loss: 0.3382 - acc: 0.8616\n",
            "Epoch 94/100\n",
            "8000/8000 [==============================] - 1s 111us/step - loss: 0.3386 - acc: 0.8606\n",
            "Epoch 95/100\n",
            "8000/8000 [==============================] - 1s 111us/step - loss: 0.3388 - acc: 0.8614\n",
            "Epoch 96/100\n",
            "8000/8000 [==============================] - 1s 111us/step - loss: 0.3387 - acc: 0.8592\n",
            "Epoch 97/100\n",
            "8000/8000 [==============================] - 1s 110us/step - loss: 0.3387 - acc: 0.8600\n",
            "Epoch 98/100\n",
            "8000/8000 [==============================] - 1s 111us/step - loss: 0.3386 - acc: 0.8619\n",
            "Epoch 99/100\n",
            "8000/8000 [==============================] - 1s 111us/step - loss: 0.3382 - acc: 0.8590\n",
            "Epoch 100/100\n",
            "8000/8000 [==============================] - 1s 111us/step - loss: 0.3380 - acc: 0.8615\n"
          ],
          "name": "stdout"
        },
        {
          "output_type": "execute_result",
          "data": {
            "text/plain": [
              "<keras.callbacks.History at 0x7f8c72c9f898>"
            ]
          },
          "metadata": {
            "tags": []
          },
          "execution_count": 9
        }
      ]
    },
    {
      "cell_type": "code",
      "metadata": {
        "id": "5Au79ShSp8GB",
        "colab_type": "code",
        "colab": {}
      },
      "source": [
        "y_pred = classifier.predict(X_test)\n",
        "y_pred = (y_pred > 0.5)"
      ],
      "execution_count": 0,
      "outputs": []
    },
    {
      "cell_type": "code",
      "metadata": {
        "id": "r6HCUasGp8GG",
        "colab_type": "code",
        "colab": {}
      },
      "source": [
        "# Making the Confusion Matrix\n",
        "from sklearn.metrics import confusion_matrix\n",
        "cm = confusion_matrix(y_test, y_pred)"
      ],
      "execution_count": 0,
      "outputs": []
    },
    {
      "cell_type": "code",
      "metadata": {
        "id": "KQ9JXr6Dp8GJ",
        "colab_type": "code",
        "colab": {
          "base_uri": "https://localhost:8080/",
          "height": 54
        },
        "outputId": "6ac25dd6-9ea1-42d3-ec30-18ea639dd195"
      },
      "source": [
        "cm"
      ],
      "execution_count": 12,
      "outputs": [
        {
          "output_type": "execute_result",
          "data": {
            "text/plain": [
              "array([[1493,  102],\n",
              "       [ 187,  218]])"
            ]
          },
          "metadata": {
            "tags": []
          },
          "execution_count": 12
        }
      ]
    },
    {
      "cell_type": "code",
      "metadata": {
        "id": "mY_rQA-tp8GP",
        "colab_type": "code",
        "colab": {}
      },
      "source": [
        ""
      ],
      "execution_count": 0,
      "outputs": []
    }
  ]
}